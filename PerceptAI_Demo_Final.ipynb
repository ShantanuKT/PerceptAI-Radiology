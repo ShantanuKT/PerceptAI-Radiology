{
  "cells": [
    {
      "cell_type": "markdown",
      "metadata": {
        "id": "KtEYYxGTV8p3"
      },
      "source": [
        "**Download the password protected source code**"
      ]
    },
    {
      "cell_type": "code",
      "execution_count": null,
      "metadata": {
        "colab": {
          "base_uri": "https://localhost:8080/"
        },
        "id": "MlqCleCmRQXb",
        "outputId": "be4ab3de-ed2c-4ea6-d9d3-c91ce3622a73"
      },
      "outputs": [],
      "source": [
        "!pip install --quiet gdown\n",
        "!gdown --id 1Jm2Y2vELwjdGxhGapP5EDoTVKmJer_bH -O Demo_v2.zip\n",
        "!ls -lh Demo_v2.zip"
      ]
    },
    {
      "cell_type": "markdown",
      "metadata": {
        "id": "dHZqOLgOWDr3"
      },
      "source": [
        "**Extract the source code using provided password**"
      ]
    },
    {
      "cell_type": "code",
      "execution_count": null,
      "metadata": {
        "colab": {
          "base_uri": "https://localhost:8080/"
        },
        "id": "DJMhPcjMVxZi",
        "outputId": "772f34e3-a549-42c2-ebc5-e1363a2b07f9"
      },
      "outputs": [],
      "source": [
        "from getpass import getpass\n",
        "\n",
        "\n",
        "pwd = getpass(\"Password for zip: \")\n",
        "\n",
        "!unzip -P \"{pwd}\" Demo_v2.zip -d /content/project\n"
      ]
    },
    {
      "cell_type": "markdown",
      "metadata": {
        "id": "T72dyeTPWfeO"
      },
      "source": [
        "**Install dependancies and setup**"
      ]
    },
    {
      "cell_type": "code",
      "execution_count": null,
      "metadata": {
        "colab": {
          "base_uri": "https://localhost:8080/"
        },
        "id": "A8Jii6abWNKV",
        "outputId": "05d99906-443d-4909-924a-26bf1a5b33df"
      },
      "outputs": [],
      "source": [
        "!curl -fsSL https://deb.nodesource.com/setup_18.x | sudo -E bash -\n",
        "!sudo apt-get update && sudo apt-get install -y nodejs build-essential\n",
        "!pip install pyngrok\n",
        "!pip install python-dotenv\n",
        "%cd /content/project\n",
        "!pip install -r requirements.txt\n",
        "%cd /content/project/test_app\n",
        "!npm install"
      ]
    },
    {
      "cell_type": "markdown",
      "metadata": {
        "id": "Cuq9o_AiYTjF"
      },
      "source": [
        "**Configure and start NGROK**"
      ]
    },
    {
      "cell_type": "code",
      "execution_count": null,
      "metadata": {
        "id": "QTBXJ5jDYS8d"
      },
      "outputs": [],
      "source": [
        "from dotenv import load_dotenv\n",
        "import os\n",
        "\n",
        "# point to your .env (default is './.env')\n",
        "load_dotenv('/content/project/.env')\n",
        "\n",
        "# 3) retrieve\n",
        "ngrok_key = os.getenv('NGROK_KEY')"
      ]
    },
    {
      "cell_type": "code",
      "execution_count": null,
      "metadata": {
        "colab": {
          "base_uri": "https://localhost:8080/"
        },
        "id": "ygD0kv9GYzSA",
        "outputId": "bc7ff3d3-f975-449e-8855-41de2895bf57"
      },
      "outputs": [],
      "source": [
        "from pyngrok import ngrok\n",
        "ngrok.set_auth_token(ngrok_key)\n",
        "frontend_tunnel = ngrok.connect(3000)"
      ]
    },
    {
      "cell_type": "markdown",
      "metadata": {
        "id": "LTxECzRad-q8"
      },
      "source": [
        "**Start Frontend in background**"
      ]
    },
    {
      "cell_type": "code",
      "execution_count": null,
      "metadata": {
        "colab": {
          "base_uri": "https://localhost:8080/"
        },
        "id": "qF8XyhC-bL2-",
        "outputId": "4b4ab858-aa4f-44e6-cba8-23347bc29915"
      },
      "outputs": [],
      "source": [
        "%cd /content/project/test_app\n",
        "!nohup npm start > react.log 2>&1 &"
      ]
    },
    {
      "cell_type": "markdown",
      "metadata": {
        "id": "dVqKEAzBeCXx"
      },
      "source": [
        "**Start the backend , let it load , then access the APP via APP URL**"
      ]
    },
    {
      "cell_type": "code",
      "execution_count": null,
      "metadata": {
        "colab": {
          "base_uri": "https://localhost:8080/"
        },
        "id": "LyNMwy4FZEXN",
        "outputId": "ee849bf6-dcc8-4cce-cce8-abadb8869919"
      },
      "outputs": [],
      "source": [
        "print(\"🔗 APP URL:\", frontend_tunnel.public_url)\n",
        "!python /content/project/server.py"
      ]
    }
  ],
  "metadata": {
    "accelerator": "GPU",
    "colab": {
      "gpuType": "T4",
      "provenance": []
    },
    "kernelspec": {
      "display_name": "Python 3",
      "name": "python3"
    },
    "language_info": {
      "name": "python",
      "version": "3.10.11"
    }
  },
  "nbformat": 4,
  "nbformat_minor": 0
}
